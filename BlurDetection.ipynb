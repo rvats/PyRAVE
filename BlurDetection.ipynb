{
 "cells": [
  {
   "cell_type": "code",
   "execution_count": 2,
   "id": "4faffcbe",
   "metadata": {},
   "outputs": [
    {
     "name": "stderr",
     "output_type": "stream",
     "text": [
      "usage: ipykernel_launcher.py [-h] -i IMAGES [-t THRESHOLD]\n",
      "ipykernel_launcher.py: error: the following arguments are required: -i/--images\n"
     ]
    },
    {
     "ename": "SystemExit",
     "evalue": "2",
     "output_type": "error",
     "traceback": [
      "An exception has occurred, use %tb to see the full traceback.\n",
      "\u001b[1;31mSystemExit\u001b[0m\u001b[1;31m:\u001b[0m 2\n"
     ]
    },
    {
     "name": "stderr",
     "output_type": "stream",
     "text": [
      "C:\\ProgramData\\Anaconda3\\lib\\site-packages\\IPython\\core\\interactiveshell.py:3445: UserWarning: To exit: use 'exit', 'quit', or Ctrl-D.\n",
      "  warn(\"To exit: use 'exit', 'quit', or Ctrl-D.\", stacklevel=1)\n"
     ]
    }
   ],
   "source": [
    "# import the necessary packages\n",
    "from imutils import paths\n",
    "import argparse\n",
    "import cv2\n",
    "def variance_of_laplacian(image):\n",
    "\t# compute the Laplacian of the image and then return the focus\n",
    "\t# measure, which is simply the variance of the Laplacian\n",
    "\treturn cv2.Laplacian(image, cv2.CV_64F).var()\n",
    "# construct the argument parse and parse the arguments\n",
    "ap = argparse.ArgumentParser()\n",
    "ap.add_argument(\"-i\", \"--images\", required=True,\n",
    "\thelp=\"path to input directory of images\")\n",
    "ap.add_argument(\"-t\", \"--threshold\", type=float, default=100.0,\n",
    "\thelp=\"focus measures that fall below this value will be considered 'blurry'\")\n",
    "args = vars(ap.parse_args())\n",
    "# loop over the input images\n",
    "for imagePath in paths.list_images(args[\"images\"]):\n",
    "\t# load the image, convert it to grayscale, and compute the\n",
    "\t# focus measure of the image using the Variance of Laplacian\n",
    "\t# method\n",
    "\timage = cv2.imread(imagePath)\n",
    "\tgray = cv2.cvtColor(image, cv2.COLOR_BGR2GRAY)\n",
    "\tfm = variance_of_laplacian(gray)\n",
    "\ttext = \"Not Blurry\"\n",
    "\t# if the focus measure is less than the supplied threshold,\n",
    "\t# then the image should be considered \"blurry\"\n",
    "\tif fm < args[\"threshold\"]:\n",
    "\t\ttext = \"Blurry\"\n",
    "\t# show the image\n",
    "\tcv2.putText(image, \"{}: {:.2f}\".format(text, fm), (10, 30),\n",
    "\t\tcv2.FONT_HERSHEY_SIMPLEX, 0.8, (0, 0, 255), 3)\n",
    "\tcv2.imshow(\"Image\", image)\n",
    "\tkey = cv2.waitKey(0)"
   ]
  },
  {
   "cell_type": "code",
   "execution_count": null,
   "id": "d1e63d1d",
   "metadata": {},
   "outputs": [],
   "source": []
  }
 ],
 "metadata": {
  "kernelspec": {
   "display_name": "Python 3",
   "language": "python",
   "name": "python3"
  },
  "language_info": {
   "codemirror_mode": {
    "name": "ipython",
    "version": 3
   },
   "file_extension": ".py",
   "mimetype": "text/x-python",
   "name": "python",
   "nbconvert_exporter": "python",
   "pygments_lexer": "ipython3",
   "version": "3.8.8"
  }
 },
 "nbformat": 4,
 "nbformat_minor": 5
}
