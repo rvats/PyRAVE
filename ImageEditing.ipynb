{
 "cells": [
  {
   "cell_type": "code",
   "execution_count": 4,
   "id": "cb803c46",
   "metadata": {},
   "outputs": [
    {
     "name": "stdout",
     "output_type": "stream",
     "text": [
      "Adding watermark\n"
     ]
    },
    {
     "ename": "error",
     "evalue": "OpenCV(4.7.0) D:\\a\\opencv-python\\opencv-python\\opencv\\modules\\core\\src\\arithm.cpp:650: error: (-209:Sizes of input arguments do not match) The operation is neither 'array op array' (where arrays have the same size and the same number of channels), nor 'array op scalar', nor 'scalar op array' in function 'cv::arithm_op'\n",
     "output_type": "error",
     "traceback": [
      "\u001b[1;31m---------------------------------------------------------------------------\u001b[0m",
      "\u001b[1;31merror\u001b[0m                                     Traceback (most recent call last)",
      "\u001b[1;32m<ipython-input-4-7a657ea1777e>\u001b[0m in \u001b[0;36m<module>\u001b[1;34m\u001b[0m\n\u001b[0;32m     27\u001b[0m \u001b[1;33m\u001b[0m\u001b[0m\n\u001b[0;32m     28\u001b[0m     \u001b[1;31m# Add the Logo to the Roi\u001b[0m\u001b[1;33m\u001b[0m\u001b[1;33m\u001b[0m\u001b[1;33m\u001b[0m\u001b[0m\n\u001b[1;32m---> 29\u001b[1;33m     \u001b[0mresult\u001b[0m \u001b[1;33m=\u001b[0m \u001b[0mcv2\u001b[0m\u001b[1;33m.\u001b[0m\u001b[0maddWeighted\u001b[0m\u001b[1;33m(\u001b[0m\u001b[0mroi\u001b[0m\u001b[1;33m,\u001b[0m \u001b[1;36m1\u001b[0m\u001b[1;33m,\u001b[0m \u001b[0mlogo\u001b[0m\u001b[1;33m,\u001b[0m \u001b[1;36m0.3\u001b[0m\u001b[1;33m,\u001b[0m \u001b[1;36m0\u001b[0m\u001b[1;33m)\u001b[0m\u001b[1;33m\u001b[0m\u001b[1;33m\u001b[0m\u001b[0m\n\u001b[0m\u001b[0;32m     30\u001b[0m \u001b[1;33m\u001b[0m\u001b[0m\n\u001b[0;32m     31\u001b[0m     \u001b[1;31m# Replace the ROI on the image\u001b[0m\u001b[1;33m\u001b[0m\u001b[1;33m\u001b[0m\u001b[1;33m\u001b[0m\u001b[0m\n",
      "\u001b[1;31merror\u001b[0m: OpenCV(4.7.0) D:\\a\\opencv-python\\opencv-python\\opencv\\modules\\core\\src\\arithm.cpp:650: error: (-209:Sizes of input arguments do not match) The operation is neither 'array op array' (where arrays have the same size and the same number of channels), nor 'array op scalar', nor 'scalar op array' in function 'cv::arithm_op'\n"
     ]
    }
   ],
   "source": [
    "import sys\n",
    "import os\n",
    "import cv2\n",
    "import numpy as np\n",
    "import glob\n",
    "\n",
    "logo = cv2.imread(\"rave.png\")\n",
    "h_logo, w_logo, _ = logo.shape\n",
    "\n",
    "images_path = glob.glob(\"photos/*.*\")\n",
    "\n",
    "print(\"Adding watermark\")\n",
    "for img_path in images_path:\n",
    "    img = cv2.imread(img_path)\n",
    "    h_img, w_img, _ = img.shape\n",
    "\n",
    "    # Get the bottom center of the original. It's the location where we will place the watermark\n",
    "    bcenter_y = int(h_img - h_logo - 50)\n",
    "    bcenter_x = int(w_img - w_logo - 50)\n",
    "    top_y = bcenter_y - int(h_logo / 2)\n",
    "    left_x = bcenter_x - int(w_logo / 2)\n",
    "    bottom_y = top_y + h_logo\n",
    "    right_x = left_x + w_logo\n",
    "\n",
    "    # Get ROI\n",
    "    roi = img[top_y: bottom_y, left_x: right_x]\n",
    "\n",
    "    # Add the Logo to the Roi\n",
    "    result = cv2.addWeighted(roi, 1, logo, 0.3, 0)\n",
    "\n",
    "    # Replace the ROI on the image\n",
    "    img[top_y: bottom_y, left_x: right_x] = result\n",
    "\n",
    "    # Get filename and save the image\n",
    "    filename = os.path.basename(img_path)\n",
    "    cv2.imwrite(\"edited/watermarked_\" + filename, img)\n",
    "\n",
    "\n",
    "print(\"Watermark added to all the images\")\n"
   ]
  },
  {
   "cell_type": "code",
   "execution_count": null,
   "id": "8035f04e",
   "metadata": {},
   "outputs": [],
   "source": [
    "'''\n",
    "from PIL import Image, ImageEnhance, ImageFilter, ImageFont, ImageDraw \n",
    "\n",
    "for g in range(len(os.listdir(\"photos\"))):\n",
    "    imgstr = str(os.listdir(\"photos\")[g])\n",
    "    print(imgstr)\n",
    "    img = Image.open(\"photos/\"+imgstr) #Make the parameter be configurable\n",
    "    color = ImageEnhance.Color(img) #Handle Temp Image be Better\n",
    "    img2 = color.enhance(1.1) #Make the parameter be configurable\n",
    "    bright = ImageEnhance.Brightness(img2) \n",
    "    img3 = bright.enhance(1.1) #Make the parameter be configurable\n",
    "    img3.save(\"edited/\"+str(imgstr[:imgstr.index(\".\")]+str(\".png\"))) #Make the parameter be configurable\n",
    "\n",
    "def calculate_brightness(image):\n",
    "    greyscale_image = image.convert('L')\n",
    "    histogram = greyscale_image.histogram()\n",
    "    pixels = sum(histogram)\n",
    "    brightness = scale = len(histogram)\n",
    "\n",
    "    for index in range(0, scale):\n",
    "        ratio = histogram[index] / pixels\n",
    "        brightness += ratio * (-scale + index)\n",
    "\n",
    "    return 1 if brightness == 255 else brightness / scale\n",
    "\n",
    "\n",
    "if __name__ == '__main__':\n",
    "    for file in sys.argv[1:]:\n",
    "        image = Image.open(file)\n",
    "        print(\"%s\\t%s\" % (file, calculate_brightness(image)))\n",
    "#Suggestions for code improvement:\n",
    "Implement Multi Threading and Parallel Processing\n",
    "Add ability to configure path dynamically\n",
    "Give a name to each effect and call effect dynamically by detecting the type of image and level of brightness, etc\n",
    "\n",
    "pic = Image.open(\"Arhana01.jpg\")\n",
    "pic\n",
    "pic.size\n",
    "\n",
    "x, y = pic.size\n",
    "x //= 10\n",
    "y //= 10\n",
    "smaller = pic.resize((x, y))\n",
    "\n",
    "smaller\n",
    "\n",
    "edges = smaller.filter(ImageFilter.FIND_EDGES)\n",
    "edges\n",
    "\n",
    "bands = edges.split()\n",
    "bands[0]\n",
    "\n",
    "outline = bands[0].point(lambda x: 255 if x<100 else 0)\n",
    "outline\n",
    "'''"
   ]
  }
 ],
 "metadata": {
  "kernelspec": {
   "display_name": "Python 3",
   "language": "python",
   "name": "python3"
  },
  "language_info": {
   "codemirror_mode": {
    "name": "ipython",
    "version": 3
   },
   "file_extension": ".py",
   "mimetype": "text/x-python",
   "name": "python",
   "nbconvert_exporter": "python",
   "pygments_lexer": "ipython3",
   "version": "3.8.8"
  }
 },
 "nbformat": 4,
 "nbformat_minor": 5
}
